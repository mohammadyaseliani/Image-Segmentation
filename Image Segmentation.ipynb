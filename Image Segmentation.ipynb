{
  "nbformat": 4,
  "nbformat_minor": 0,
  "metadata": {
    "colab": {
      "provenance": [],
      "collapsed_sections": []
    },
    "kernelspec": {
      "name": "python3",
      "display_name": "Python 3"
    },
    "language_info": {
      "name": "python"
    }
  },
  "cells": [
    {
      "cell_type": "code",
      "source": [
        "# Installing and Updating Libraries\n",
        "!pip install segmentation_models\n",
        "!pip install --upgrade tensorflow\n",
        "!pip install --upgrade keras"
      ],
      "metadata": {
        "id": "rb7ryc8mpbFB"
      },
      "execution_count": null,
      "outputs": []
    },
    {
      "cell_type": "code",
      "execution_count": null,
      "metadata": {
        "id": "F9Sa-ZUCRq8t"
      },
      "outputs": [],
      "source": [
        "# Importing Libraries\n",
        "import tensorflow as tf\n",
        "import segmentation_models as sm\n",
        "import glob\n",
        "import cv2\n",
        "import os\n",
        "import numpy as np\n",
        "from matplotlib import pyplot as plt\n",
        "from sklearn.model_selection import train_test_split"
      ]
    },
    {
      "cell_type": "code",
      "source": [
        "# Loading Images\n",
        "images = []\n",
        "for directory_path in glob(\"/content/drive/MyDrive/Dataset Address/Dataset/images/*\"):\n",
        "    for img_path in glob(os.path.join(directory_path, \"*.jpg\")) or glob(os.path.join(directory_path, \"*.jpeg\")):\n",
        "        img=tf.keras.preprocessing.image.load_img(img_path, target_size=(256, 256))\n",
        "        img=np.asarray(img) \n",
        "        images.append(img)"
      ],
      "metadata": {
        "id": "gsTWDYd8pZGy"
      },
      "execution_count": 4,
      "outputs": []
    },
    {
      "cell_type": "code",
      "source": [
        "# Loading Masks\n",
        "masks = []\n",
        "for directory_path in glob(\"/content/drive/MyDrive/Dataset Address/Dataset/masks/*\"):\n",
        "    for mask_path in glob(os.path.join(directory_path, \"*.jpg\")) or glob(os.path.join(directory_path, \"*.jpeg\")):\n",
        "        mask=tf.keras.preprocessing.image.load_img(mask_path, target_size=(256, 256))\n",
        "        mask=np.asarray(img) \n",
        "        masks.append(mask)"
      ],
      "metadata": {
        "id": "mjfkJMOQtU6Z"
      },
      "execution_count": null,
      "outputs": []
    },
    {
      "cell_type": "code",
      "source": [
        "# Creating the U-Net Model\n",
        "BACKBONE = 'vgg16'\n",
        "preprocess_input = sm.get_preprocessing(BACKBONE)\n",
        "\n",
        "x_train, x_test, y_train, y_test = train_test_split(images, masks, test_size=0.2)\n",
        "\n",
        "model = sm.Unet(BACKBONE, encoder_weights='imagenet')\n",
        "\n",
        "model.compile(optimizer='adam', loss='binary_crossentropy', metrics=['mse'])\n",
        "\n",
        "print(model.summary())\n",
        "\n",
        "history=model.fit(x_train, \n",
        "          y_train,\n",
        "          batch_size=32, \n",
        "          epochs=20,\n",
        "          verbose=1,\n",
        "          validation_data=(x_test, y_test))"
      ],
      "metadata": {
        "id": "sZocoC4LrdHv"
      },
      "execution_count": 2,
      "outputs": []
    },
    {
      "cell_type": "code",
      "source": [
        "# Saving the Model\n",
        "model.save(\"/content/drive/MyDrive/model_segmentation.h5\")"
      ],
      "metadata": {
        "id": "nHexx8YDaS_w"
      },
      "execution_count": null,
      "outputs": []
    },
    {
      "cell_type": "code",
      "source": [
        "# Training and Test Loss Curves\n",
        "loss = history.history['loss']\n",
        "test_loss = history.history['val_loss']\n",
        "epochs = range(1, len(loss) + 1)\n",
        "plt.plot(epochs, loss, 'y', label='Training loss')\n",
        "plt.plot(epochs, test_loss, 'r', label='Test loss')\n",
        "plt.title('Training and test loss')\n",
        "plt.xlabel('Epochs')\n",
        "plt.ylabel('Loss')\n",
        "plt.legend()\n",
        "plt.show()"
      ],
      "metadata": {
        "id": "xGxNxqvASSjZ"
      },
      "execution_count": null,
      "outputs": []
    },
    {
      "cell_type": "code",
      "source": [
        "# Precition Using the Model\n",
        "model = tf.keras.models.load_model(\"/content/drive/MyDrive/model_segmentation.h5\", compile=False)\n",
        "\n",
        "test_img = cv2.imread('Example Image.jpg', cv2.IMREAD_COLOR)       \n",
        "test_img = cv2.resize(test_img, (256, 256))\n",
        "test_img = cv2.cvtColor(test_img, cv2.COLOR_RGB2BGR)\n",
        "test_img = np.expand_dims(test_img, axis=0)\n",
        "\n",
        "prediction = model.predict(test_img)\n",
        "\n",
        "prediction_image = prediction.reshape((256, 256))\n",
        "plt.imshow(prediction_image, cmap='gray')\n",
        "plt.imsave('segmented_image.jpg', prediction_image, cmap='gray')"
      ],
      "metadata": {
        "id": "bbRt7iT-W-Z4"
      },
      "execution_count": null,
      "outputs": []
    }
  ]
}